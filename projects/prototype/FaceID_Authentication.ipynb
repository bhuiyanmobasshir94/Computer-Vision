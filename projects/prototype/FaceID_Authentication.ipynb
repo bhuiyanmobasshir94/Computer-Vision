{
  "nbformat": 4,
  "nbformat_minor": 0,
  "metadata": {
    "colab": {
      "provenance": [],
      "authorship_tag": "ABX9TyOLbXKUW7eutQkW4KGaQB+r",
      "include_colab_link": true
    },
    "kernelspec": {
      "name": "python3",
      "display_name": "Python 3"
    },
    "language_info": {
      "name": "python"
    }
  },
  "cells": [
    {
      "cell_type": "markdown",
      "metadata": {
        "id": "view-in-github",
        "colab_type": "text"
      },
      "source": [
        "<a href=\"https://colab.research.google.com/github/bhuiyanmobasshir94/Computer-Vision/blob/main/projects/prototype/FaceID_Authentication.ipynb\" target=\"_parent\"><img src=\"https://colab.research.google.com/assets/colab-badge.svg\" alt=\"Open In Colab\"/></a>"
      ]
    },
    {
      "cell_type": "code",
      "source": [
        "# !pip install deepface"
      ],
      "metadata": {
        "id": "ODL1jGbQrMsB"
      },
      "execution_count": 38,
      "outputs": []
    },
    {
      "cell_type": "code",
      "source": [
        "# s3.mount('faceid', '/mobasshir')\n",
        "!sudo apt install s3fs"
      ],
      "metadata": {
        "colab": {
          "base_uri": "https://localhost:8080/"
        },
        "id": "dW8L7IAa0M24",
        "outputId": "1d2a3c55-5289-4117-e660-1b887f9e79ac"
      },
      "execution_count": 28,
      "outputs": [
        {
          "output_type": "stream",
          "name": "stdout",
          "text": [
            "Reading package lists... Done\n",
            "Building dependency tree... Done\n",
            "Reading state information... Done\n",
            "The following additional packages will be installed:\n",
            "  mailcap mime-support\n",
            "The following NEW packages will be installed:\n",
            "  mailcap mime-support s3fs\n",
            "0 upgraded, 3 newly installed, 0 to remove and 18 not upgraded.\n",
            "Need to get 325 kB of archives.\n",
            "After this operation, 901 kB of additional disk space will be used.\n",
            "Get:1 http://archive.ubuntu.com/ubuntu jammy/main amd64 mailcap all 3.70+nmu1ubuntu1 [23.8 kB]\n",
            "Get:2 http://archive.ubuntu.com/ubuntu jammy/main amd64 mime-support all 3.66 [3,696 B]\n",
            "Get:3 http://archive.ubuntu.com/ubuntu jammy/universe amd64 s3fs amd64 1.90-1 [297 kB]\n",
            "Fetched 325 kB in 0s (2,739 kB/s)\n",
            "debconf: unable to initialize frontend: Dialog\n",
            "debconf: (No usable dialog-like program is installed, so the dialog based frontend cannot be used. at /usr/share/perl5/Debconf/FrontEnd/Dialog.pm line 78, <> line 3.)\n",
            "debconf: falling back to frontend: Readline\n",
            "debconf: unable to initialize frontend: Readline\n",
            "debconf: (This frontend requires a controlling tty.)\n",
            "debconf: falling back to frontend: Teletype\n",
            "dpkg-preconfigure: unable to re-open stdin: \n",
            "Selecting previously unselected package mailcap.\n",
            "(Reading database ... 120874 files and directories currently installed.)\n",
            "Preparing to unpack .../mailcap_3.70+nmu1ubuntu1_all.deb ...\n",
            "Unpacking mailcap (3.70+nmu1ubuntu1) ...\n",
            "Selecting previously unselected package mime-support.\n",
            "Preparing to unpack .../mime-support_3.66_all.deb ...\n",
            "Unpacking mime-support (3.66) ...\n",
            "Selecting previously unselected package s3fs.\n",
            "Preparing to unpack .../archives/s3fs_1.90-1_amd64.deb ...\n",
            "Unpacking s3fs (1.90-1) ...\n",
            "Setting up mailcap (3.70+nmu1ubuntu1) ...\n",
            "Setting up mime-support (3.66) ...\n",
            "Setting up s3fs (1.90-1) ...\n",
            "Processing triggers for man-db (2.10.2-1) ...\n"
          ]
        }
      ]
    },
    {
      "cell_type": "code",
      "source": [
        "!echo minioadmin:minioadmin > ${HOME}/.passwd-s3fs && chmod 600 ${HOME}/.passwd-s3fs"
      ],
      "metadata": {
        "id": "ZpTC3wqW1-nk"
      },
      "execution_count": 29,
      "outputs": []
    },
    {
      "cell_type": "code",
      "source": [
        "!s3fs faceid /content/minio -o passwd_file=${HOME}/.passwd-s3fs -o url=http://52.76.39.218:9504/ -o use_path_request_style"
      ],
      "metadata": {
        "id": "mhjeXHFL2QC6"
      },
      "execution_count": 36,
      "outputs": []
    },
    {
      "cell_type": "code",
      "source": [
        "from deepface import DeepFace"
      ],
      "metadata": {
        "colab": {
          "base_uri": "https://localhost:8080/"
        },
        "id": "IfK9kJc1rYww",
        "outputId": "9fdbc255-e174-4448-e663-616eaba2efcd"
      },
      "execution_count": 4,
      "outputs": [
        {
          "output_type": "stream",
          "name": "stdout",
          "text": [
            "Directory  /root /.deepface created\n",
            "Directory  /root /.deepface/weights created\n"
          ]
        }
      ]
    },
    {
      "cell_type": "code",
      "source": [
        "result = DeepFace.verify(img1_path = \"/content/minio/mobasshir/ProfileImage.jpeg\", img2_path = \"/content/minio/mobasshir/1651940609107.jpeg\", detector_backend=\"retinaface\", model_name=\"ArcFace\")"
      ],
      "metadata": {
        "colab": {
          "base_uri": "https://localhost:8080/"
        },
        "id": "4yinbLm7zVZd",
        "outputId": "1df77162-3d80-46b1-e892-49bcf2db76a3"
      },
      "execution_count": 42,
      "outputs": [
        {
          "output_type": "stream",
          "name": "stdout",
          "text": [
            "retinaface.h5 will be downloaded from the url https://github.com/serengil/deepface_models/releases/download/v1.0/retinaface.h5\n"
          ]
        },
        {
          "output_type": "stream",
          "name": "stderr",
          "text": [
            "Downloading...\n",
            "From: https://github.com/serengil/deepface_models/releases/download/v1.0/retinaface.h5\n",
            "To: /root/.deepface/weights/retinaface.h5\n",
            "100%|██████████| 119M/119M [00:00<00:00, 138MB/s]\n"
          ]
        },
        {
          "output_type": "stream",
          "name": "stdout",
          "text": [
            "arcface_weights.h5  will be downloaded to  /root/.deepface/weights/arcface_weights.h5\n"
          ]
        },
        {
          "output_type": "stream",
          "name": "stderr",
          "text": [
            "Downloading...\n",
            "From: https://github.com/serengil/deepface_models/releases/download/v1.0/arcface_weights.h5\n",
            "To: /root/.deepface/weights/arcface_weights.h5\n",
            "100%|██████████| 137M/137M [00:02<00:00, 54.3MB/s]\n"
          ]
        }
      ]
    },
    {
      "cell_type": "code",
      "source": [
        "result"
      ],
      "metadata": {
        "colab": {
          "base_uri": "https://localhost:8080/"
        },
        "id": "PQ75sq02t1kc",
        "outputId": "928a2f91-cb15-48a6-ab0a-fc705250bfd8"
      },
      "execution_count": 43,
      "outputs": [
        {
          "output_type": "execute_result",
          "data": {
            "text/plain": [
              "{'verified': True,\n",
              " 'distance': 0.5279902601500392,\n",
              " 'threshold': 0.68,\n",
              " 'model': 'ArcFace',\n",
              " 'detector_backend': 'retinaface',\n",
              " 'similarity_metric': 'cosine',\n",
              " 'facial_areas': {'img1': {'x': 101, 'y': 88, 'w': 134, 'h': 184},\n",
              "  'img2': {'x': 71, 'y': 50, 'w': 79, 'h': 109}},\n",
              " 'time': 33.01}"
            ]
          },
          "metadata": {},
          "execution_count": 43
        }
      ]
    },
    {
      "cell_type": "code",
      "source": [
        "dfs = DeepFace.find(img_path = \"/content/minio/mobasshir/ProfileImage.jpeg\", db_path = \"/content/minio/\",detector_backend=\"retinaface\", model_name=\"ArcFace\")"
      ],
      "metadata": {
        "colab": {
          "base_uri": "https://localhost:8080/"
        },
        "id": "iYupE34W4fcp",
        "outputId": "5698d0bb-22f3-416b-c981-4a91911498b5"
      },
      "execution_count": 46,
      "outputs": [
        {
          "output_type": "stream",
          "name": "stdout",
          "text": [
            "WARNING: Representations for images in /content/minio/ folder were previously stored in representations_arcface.pkl. If you added new instances after the creation, then please delete this file and call find function again. It will create it again.\n",
            "There are  3  representations found in  representations_arcface.pkl\n",
            "find function lasts  11.405875205993652  seconds\n"
          ]
        }
      ]
    },
    {
      "cell_type": "code",
      "source": [
        "dfs"
      ],
      "metadata": {
        "colab": {
          "base_uri": "https://localhost:8080/"
        },
        "id": "vefWMMY35Yje",
        "outputId": "f4e03870-3f5d-49f2-f325-5cc309bb5a2e"
      },
      "execution_count": 47,
      "outputs": [
        {
          "output_type": "execute_result",
          "data": {
            "text/plain": [
              "[                                      identity  source_x  source_y  source_w  \\\n",
              " 0   /content/minio/mobasshir/ProfileImage.jpeg       101        88       134   \n",
              " 1  /content/minio/mobasshir/1651940609107.jpeg       101        88       134   \n",
              " 2         /content/minio/mobasshir/11969--.jpg       101        88       134   \n",
              " \n",
              "    source_h  ArcFace_cosine  \n",
              " 0       184   -2.220446e-16  \n",
              " 1       184    5.279903e-01  \n",
              " 2       184    6.026497e-01  ]"
            ]
          },
          "metadata": {},
          "execution_count": 47
        }
      ]
    },
    {
      "cell_type": "code",
      "source": [],
      "metadata": {
        "id": "1P0waqvX5jSn"
      },
      "execution_count": null,
      "outputs": []
    }
  ]
}